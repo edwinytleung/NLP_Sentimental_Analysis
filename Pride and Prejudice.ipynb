{
 "cells": [
  {
   "cell_type": "code",
   "execution_count": 1,
   "metadata": {},
   "outputs": [
    {
     "data": {
      "text/plain": [
       "{'The': 4,\n",
       " 'brown': 3,\n",
       " 'for': 2,\n",
       " 'jumped': 5,\n",
       " 'over': 6,\n",
       " 'quick': 0,\n",
       " 'the': 1,\n",
       " 'tree?': 7}"
      ]
     },
     "execution_count": 1,
     "metadata": {},
     "output_type": "execute_result"
    }
   ],
   "source": [
    "import numpy as np\n",
    "\n",
    "sentence = 'The quick brown for jumped over the tree?'\n",
    "word_list = sentence.split()\n",
    "token_index = {} #used to map word to int\n",
    "\n",
    "#use set to remove duplicate words\n",
    "for word in set(word_list):\n",
    "    if word not in token_index:\n",
    "        token_index[word] = len(token_index) \n",
    "\n",
    "token_index"
   ]
  },
  {
   "cell_type": "code",
   "execution_count": 2,
   "metadata": {},
   "outputs": [
    {
     "name": "stderr",
     "output_type": "stream",
     "text": [
      "C:\\Users\\edwin\\Anaconda3\\lib\\site-packages\\gensim\\utils.py:1197: UserWarning: detected Windows; aliasing chunkize to chunkize_serial\n",
      "  warnings.warn(\"detected Windows; aliasing chunkize to chunkize_serial\")\n"
     ]
    }
   ],
   "source": [
    "from gensim.models import Word2Vec #prebuilt word to vec implementation\n",
    "import glob #finds all pathnames matching a pattern, like regex\n",
    "import codecs #unicode support when reading files\n",
    "from multiprocessing import cpu_count #use to get number of cpus on host machine\n",
    "from gensim.utils import simple_preprocess,simple_tokenize #text processing\n",
    "from string import punctuation #string  containing all puncuation"
   ]
  },
  {
   "cell_type": "code",
   "execution_count": 3,
   "metadata": {},
   "outputs": [
    {
     "name": "stdout",
     "output_type": "stream",
     "text": [
      "Found books:\n"
     ]
    },
    {
     "data": {
      "text/plain": [
       "['book\\\\Pride and Prejudice.txt']"
      ]
     },
     "execution_count": 3,
     "metadata": {},
     "output_type": "execute_result"
    }
   ],
   "source": [
    "book_filenames = sorted(glob.glob(\"book/*.txt\"))\n",
    "print(\"Found books:\")\n",
    "book_filenames"
   ]
  },
  {
   "cell_type": "code",
   "execution_count": 4,
   "metadata": {},
   "outputs": [
    {
     "name": "stdout",
     "output_type": "stream",
     "text": [
      "Corpus is 717029 characters long\n"
     ]
    }
   ],
   "source": [
    "corpus_raw = u\"\"\n",
    "#for each book, read it, open it un utf 8 format, \n",
    "#add it to the raw corpus\n",
    "for book_filename in book_filenames:\n",
    "    with codecs.open(book_filename, \"r\", \"utf-8\") as book_file:\n",
    "        corpus_raw += book_file.read()\n",
    "\n",
    "print(\"Corpus is {0} characters long\".format(len(corpus_raw)))"
   ]
  },
  {
   "cell_type": "code",
   "execution_count": 5,
   "metadata": {},
   "outputs": [],
   "source": [
    "table=str.maketrans(\"\",\"\",punctuation)     #create translation table\n",
    "text = corpus_raw.translate(table) # remove puncuation\n",
    "sentences = text.split('\\n') #split into sentences\n",
    "sentences = list(filter(None,sentences)) #remove empty strings\n",
    "for i,sentence in enumerate(sentences):\n",
    "    sentences[i] = sentence.lower().split() #lower case and split into words"
   ]
  },
  {
   "cell_type": "code",
   "execution_count": 6,
   "metadata": {},
   "outputs": [],
   "source": [
    "sentences = corpus_raw.split('\\n') #split at new lines\n",
    "sentences =  filter(None, sentences) # remove empty strings\n",
    "sentences =  list(map(simple_preprocess,sentences)) #clean text "
   ]
  },
  {
   "cell_type": "code",
   "execution_count": 7,
   "metadata": {},
   "outputs": [],
   "source": [
    "workers = cpu_count()"
   ]
  },
  {
   "cell_type": "code",
   "execution_count": 8,
   "metadata": {},
   "outputs": [],
   "source": [
    "model = Word2Vec(sentences, size=100, window=5, min_count=5, workers=workers) #fit model"
   ]
  },
  {
   "cell_type": "code",
   "execution_count": 9,
   "metadata": {},
   "outputs": [
    {
     "data": {
      "text/plain": [
       "2117"
      ]
     },
     "execution_count": 9,
     "metadata": {},
     "output_type": "execute_result"
    }
   ],
   "source": [
    "len(model.wv.vocab) #size of vocab"
   ]
  },
  {
   "cell_type": "code",
   "execution_count": 10,
   "metadata": {},
   "outputs": [
    {
     "data": {
      "text/plain": [
       "(2117, 100)"
      ]
     },
     "execution_count": 10,
     "metadata": {},
     "output_type": "execute_result"
    }
   ],
   "source": [
    "model.wv.vectors.shape  # how we can access the word embeddings matrix"
   ]
  },
  {
   "cell_type": "code",
   "execution_count": 11,
   "metadata": {},
   "outputs": [
    {
     "data": {
      "text/plain": [
       "True"
      ]
     },
     "execution_count": 11,
     "metadata": {},
     "output_type": "execute_result"
    }
   ],
   "source": [
    "'word'  in model.wv.vocab #check if word in vocab"
   ]
  },
  {
   "cell_type": "code",
   "execution_count": 12,
   "metadata": {},
   "outputs": [
    {
     "data": {
      "text/plain": [
       "array([-0.19864893, -0.20620547,  0.13557515,  0.6751277 ,  0.19841546,\n",
       "       -0.30418634, -0.00583177, -0.16800143,  0.06088564, -0.12502596,\n",
       "       -0.1372419 ,  0.08277331, -0.18771084, -0.12487579,  0.1958325 ,\n",
       "       -0.8932824 , -0.03137023, -0.25765646,  0.13894023,  0.58164805,\n",
       "        0.24447006, -0.5220212 , -0.26179418, -0.18274675, -0.32865795,\n",
       "       -0.0870305 , -0.09695656,  0.00582173,  0.37042493, -0.22931446,\n",
       "       -0.06636467,  0.06597514,  0.31375328, -0.2373373 ,  0.4282515 ,\n",
       "       -0.24698992, -0.00165689,  0.21547677, -0.02950837,  0.18457799,\n",
       "       -0.41804236, -0.36304793,  0.49508312,  0.1282711 , -0.3950212 ,\n",
       "       -0.20290186,  0.38320732, -0.12128406,  0.67209566, -0.10775404,\n",
       "        0.29955307,  0.16264375,  0.225446  , -0.5443164 , -0.09479618,\n",
       "       -0.16551189, -0.0403454 , -0.6080351 ,  0.25760886,  0.4514904 ,\n",
       "       -0.14883967,  0.03961065,  0.04853184, -0.1672887 ,  0.03205734,\n",
       "       -0.02569219,  0.02184038, -0.09513454,  0.50605434,  0.25806564,\n",
       "       -0.5727973 ,  0.29889587,  0.15975538,  0.5828386 , -0.09388176,\n",
       "       -0.22415453, -0.35529596,  0.17297584,  0.35629302,  0.20135221,\n",
       "       -0.11184495,  0.41173378,  0.27506834, -0.06715934,  0.17838517,\n",
       "       -0.15238717, -0.346337  , -0.34236598,  0.05426855,  0.18510132,\n",
       "        0.4416781 ,  0.5735025 , -0.30190971,  0.20704137, -0.12036142,\n",
       "        0.03816785, -0.14101425, -0.19582507, -0.45354268,  0.17299   ],\n",
       "      dtype=float32)"
      ]
     },
     "execution_count": 12,
     "metadata": {},
     "output_type": "execute_result"
    }
   ],
   "source": [
    "model.wv['man'] #get word vector for man"
   ]
  },
  {
   "cell_type": "code",
   "execution_count": 13,
   "metadata": {},
   "outputs": [
    {
     "data": {
      "text/plain": [
       "[('something', 0.9996433258056641),\n",
       " ('person', 0.9995888471603394),\n",
       " ('about', 0.9995883703231812),\n",
       " ('our', 0.9995846748352051),\n",
       " ('woman', 0.9995682239532471),\n",
       " ('want', 0.999567985534668),\n",
       " ('good', 0.999547004699707),\n",
       " ('men', 0.9995465278625488),\n",
       " ('people', 0.9995226860046387),\n",
       " ('anything', 0.9995101690292358)]"
      ]
     },
     "execution_count": 13,
     "metadata": {},
     "output_type": "execute_result"
    }
   ],
   "source": [
    "model.wv.most_similar('man')  # find most similar words"
   ]
  },
  {
   "cell_type": "code",
   "execution_count": 14,
   "metadata": {},
   "outputs": [
    {
     "data": {
      "text/plain": [
       "[('de', 0.9979858994483948),\n",
       " ('lucas', 0.997879147529602),\n",
       " ('elizabeth', 0.9978147745132446),\n",
       " ('bourgh', 0.9977259635925293),\n",
       " ('eyes', 0.9976943731307983),\n",
       " ('turned', 0.997608482837677),\n",
       " ('returned', 0.9975976347923279),\n",
       " ('eliza', 0.9975690245628357),\n",
       " ('away', 0.9974694848060608),\n",
       " ('sat', 0.9974604845046997)]"
      ]
     },
     "execution_count": 14,
     "metadata": {},
     "output_type": "execute_result"
    }
   ],
   "source": [
    "model.wv.most_similar(positive=['woman', 'king'], negative=['man']) "
   ]
  },
  {
   "cell_type": "code",
   "execution_count": 15,
   "metadata": {},
   "outputs": [],
   "source": [
    "from sklearn.manifold import TSNE #from dimensionality reduction\n",
    "import pandas as pd "
   ]
  },
  {
   "cell_type": "code",
   "execution_count": 16,
   "metadata": {},
   "outputs": [],
   "source": [
    "from sklearn.manifold import MDS"
   ]
  },
  {
   "cell_type": "code",
   "execution_count": 17,
   "metadata": {},
   "outputs": [],
   "source": [
    "n = 1000 #only use first 1000 vectors"
   ]
  },
  {
   "cell_type": "code",
   "execution_count": 18,
   "metadata": {},
   "outputs": [],
   "source": [
    "tsne = TSNE(n_components=2, perplexity=3,random_state=0)\n",
    "tsne_vectors = tsne.fit_transform(model.wv.vectors[:n])"
   ]
  },
  {
   "cell_type": "code",
   "execution_count": 19,
   "metadata": {},
   "outputs": [],
   "source": [
    "words = model.wv.index2word[:n] #get first n words from model"
   ]
  },
  {
   "cell_type": "code",
   "execution_count": 20,
   "metadata": {},
   "outputs": [
    {
     "data": {
      "text/html": [
       "\n",
       "    <div class=\"bk-root\">\n",
       "        <a href=\"https://bokeh.pydata.org\" target=\"_blank\" class=\"bk-logo bk-logo-small bk-logo-notebook\"></a>\n",
       "        <span id=\"890b216f-8e83-4d3f-9df4-6008ee0fb759\">Loading BokehJS ...</span>\n",
       "    </div>"
      ]
     },
     "metadata": {},
     "output_type": "display_data"
    },
    {
     "data": {
      "application/javascript": [
       "\n",
       "(function(root) {\n",
       "  function now() {\n",
       "    return new Date();\n",
       "  }\n",
       "\n",
       "  var force = true;\n",
       "\n",
       "  if (typeof (root._bokeh_onload_callbacks) === \"undefined\" || force === true) {\n",
       "    root._bokeh_onload_callbacks = [];\n",
       "    root._bokeh_is_loading = undefined;\n",
       "  }\n",
       "\n",
       "  var JS_MIME_TYPE = 'application/javascript';\n",
       "  var HTML_MIME_TYPE = 'text/html';\n",
       "  var EXEC_MIME_TYPE = 'application/vnd.bokehjs_exec.v0+json';\n",
       "  var CLASS_NAME = 'output_bokeh rendered_html';\n",
       "\n",
       "  /**\n",
       "   * Render data to the DOM node\n",
       "   */\n",
       "  function render(props, node) {\n",
       "    var script = document.createElement(\"script\");\n",
       "    node.appendChild(script);\n",
       "  }\n",
       "\n",
       "  /**\n",
       "   * Handle when an output is cleared or removed\n",
       "   */\n",
       "  function handleClearOutput(event, handle) {\n",
       "    var cell = handle.cell;\n",
       "\n",
       "    var id = cell.output_area._bokeh_element_id;\n",
       "    var server_id = cell.output_area._bokeh_server_id;\n",
       "    // Clean up Bokeh references\n",
       "    if (id !== undefined) {\n",
       "      Bokeh.index[id].model.document.clear();\n",
       "      delete Bokeh.index[id];\n",
       "    }\n",
       "\n",
       "    if (server_id !== undefined) {\n",
       "      // Clean up Bokeh references\n",
       "      var cmd = \"from bokeh.io.state import curstate; print(curstate().uuid_to_server['\" + server_id + \"'].get_sessions()[0].document.roots[0]._id)\";\n",
       "      cell.notebook.kernel.execute(cmd, {\n",
       "        iopub: {\n",
       "          output: function(msg) {\n",
       "            var element_id = msg.content.text.trim();\n",
       "            Bokeh.index[element_id].model.document.clear();\n",
       "            delete Bokeh.index[element_id];\n",
       "          }\n",
       "        }\n",
       "      });\n",
       "      // Destroy server and session\n",
       "      var cmd = \"import bokeh.io.notebook as ion; ion.destroy_server('\" + server_id + \"')\";\n",
       "      cell.notebook.kernel.execute(cmd);\n",
       "    }\n",
       "  }\n",
       "\n",
       "  /**\n",
       "   * Handle when a new output is added\n",
       "   */\n",
       "  function handleAddOutput(event, handle) {\n",
       "    var output_area = handle.output_area;\n",
       "    var output = handle.output;\n",
       "\n",
       "    // limit handleAddOutput to display_data with EXEC_MIME_TYPE content only\n",
       "    if ((output.output_type != \"display_data\") || (!output.data.hasOwnProperty(EXEC_MIME_TYPE))) {\n",
       "      return\n",
       "    }\n",
       "\n",
       "    var toinsert = output_area.element.find(\".\" + CLASS_NAME.split(' ')[0]);\n",
       "\n",
       "    if (output.metadata[EXEC_MIME_TYPE][\"id\"] !== undefined) {\n",
       "      toinsert[toinsert.length - 1].firstChild.textContent = output.data[JS_MIME_TYPE];\n",
       "      // store reference to embed id on output_area\n",
       "      output_area._bokeh_element_id = output.metadata[EXEC_MIME_TYPE][\"id\"];\n",
       "    }\n",
       "    if (output.metadata[EXEC_MIME_TYPE][\"server_id\"] !== undefined) {\n",
       "      var bk_div = document.createElement(\"div\");\n",
       "      bk_div.innerHTML = output.data[HTML_MIME_TYPE];\n",
       "      var script_attrs = bk_div.children[0].attributes;\n",
       "      for (var i = 0; i < script_attrs.length; i++) {\n",
       "        toinsert[toinsert.length - 1].firstChild.setAttribute(script_attrs[i].name, script_attrs[i].value);\n",
       "      }\n",
       "      // store reference to server id on output_area\n",
       "      output_area._bokeh_server_id = output.metadata[EXEC_MIME_TYPE][\"server_id\"];\n",
       "    }\n",
       "  }\n",
       "\n",
       "  function register_renderer(events, OutputArea) {\n",
       "\n",
       "    function append_mime(data, metadata, element) {\n",
       "      // create a DOM node to render to\n",
       "      var toinsert = this.create_output_subarea(\n",
       "        metadata,\n",
       "        CLASS_NAME,\n",
       "        EXEC_MIME_TYPE\n",
       "      );\n",
       "      this.keyboard_manager.register_events(toinsert);\n",
       "      // Render to node\n",
       "      var props = {data: data, metadata: metadata[EXEC_MIME_TYPE]};\n",
       "      render(props, toinsert[toinsert.length - 1]);\n",
       "      element.append(toinsert);\n",
       "      return toinsert\n",
       "    }\n",
       "\n",
       "    /* Handle when an output is cleared or removed */\n",
       "    events.on('clear_output.CodeCell', handleClearOutput);\n",
       "    events.on('delete.Cell', handleClearOutput);\n",
       "\n",
       "    /* Handle when a new output is added */\n",
       "    events.on('output_added.OutputArea', handleAddOutput);\n",
       "\n",
       "    /**\n",
       "     * Register the mime type and append_mime function with output_area\n",
       "     */\n",
       "    OutputArea.prototype.register_mime_type(EXEC_MIME_TYPE, append_mime, {\n",
       "      /* Is output safe? */\n",
       "      safe: true,\n",
       "      /* Index of renderer in `output_area.display_order` */\n",
       "      index: 0\n",
       "    });\n",
       "  }\n",
       "\n",
       "  // register the mime type if in Jupyter Notebook environment and previously unregistered\n",
       "  if (root.Jupyter !== undefined) {\n",
       "    var events = require('base/js/events');\n",
       "    var OutputArea = require('notebook/js/outputarea').OutputArea;\n",
       "\n",
       "    if (OutputArea.prototype.mime_types().indexOf(EXEC_MIME_TYPE) == -1) {\n",
       "      register_renderer(events, OutputArea);\n",
       "    }\n",
       "  }\n",
       "\n",
       "  \n",
       "  if (typeof (root._bokeh_timeout) === \"undefined\" || force === true) {\n",
       "    root._bokeh_timeout = Date.now() + 5000;\n",
       "    root._bokeh_failed_load = false;\n",
       "  }\n",
       "\n",
       "  var NB_LOAD_WARNING = {'data': {'text/html':\n",
       "     \"<div style='background-color: #fdd'>\\n\"+\n",
       "     \"<p>\\n\"+\n",
       "     \"BokehJS does not appear to have successfully loaded. If loading BokehJS from CDN, this \\n\"+\n",
       "     \"may be due to a slow or bad network connection. Possible fixes:\\n\"+\n",
       "     \"</p>\\n\"+\n",
       "     \"<ul>\\n\"+\n",
       "     \"<li>re-rerun `output_notebook()` to attempt to load from CDN again, or</li>\\n\"+\n",
       "     \"<li>use INLINE resources instead, as so:</li>\\n\"+\n",
       "     \"</ul>\\n\"+\n",
       "     \"<code>\\n\"+\n",
       "     \"from bokeh.resources import INLINE\\n\"+\n",
       "     \"output_notebook(resources=INLINE)\\n\"+\n",
       "     \"</code>\\n\"+\n",
       "     \"</div>\"}};\n",
       "\n",
       "  function display_loaded() {\n",
       "    var el = document.getElementById(\"890b216f-8e83-4d3f-9df4-6008ee0fb759\");\n",
       "    if (el != null) {\n",
       "      el.textContent = \"BokehJS is loading...\";\n",
       "    }\n",
       "    if (root.Bokeh !== undefined) {\n",
       "      if (el != null) {\n",
       "        el.textContent = \"BokehJS \" + root.Bokeh.version + \" successfully loaded.\";\n",
       "      }\n",
       "    } else if (Date.now() < root._bokeh_timeout) {\n",
       "      setTimeout(display_loaded, 100)\n",
       "    }\n",
       "  }\n",
       "\n",
       "\n",
       "  function run_callbacks() {\n",
       "    try {\n",
       "      root._bokeh_onload_callbacks.forEach(function(callback) { callback() });\n",
       "    }\n",
       "    finally {\n",
       "      delete root._bokeh_onload_callbacks\n",
       "    }\n",
       "    console.info(\"Bokeh: all callbacks have finished\");\n",
       "  }\n",
       "\n",
       "  function load_libs(js_urls, callback) {\n",
       "    root._bokeh_onload_callbacks.push(callback);\n",
       "    if (root._bokeh_is_loading > 0) {\n",
       "      console.log(\"Bokeh: BokehJS is being loaded, scheduling callback at\", now());\n",
       "      return null;\n",
       "    }\n",
       "    if (js_urls == null || js_urls.length === 0) {\n",
       "      run_callbacks();\n",
       "      return null;\n",
       "    }\n",
       "    console.log(\"Bokeh: BokehJS not loaded, scheduling load and callback at\", now());\n",
       "    root._bokeh_is_loading = js_urls.length;\n",
       "    for (var i = 0; i < js_urls.length; i++) {\n",
       "      var url = js_urls[i];\n",
       "      var s = document.createElement('script');\n",
       "      s.src = url;\n",
       "      s.async = false;\n",
       "      s.onreadystatechange = s.onload = function() {\n",
       "        root._bokeh_is_loading--;\n",
       "        if (root._bokeh_is_loading === 0) {\n",
       "          console.log(\"Bokeh: all BokehJS libraries loaded\");\n",
       "          run_callbacks()\n",
       "        }\n",
       "      };\n",
       "      s.onerror = function() {\n",
       "        console.warn(\"failed to load library \" + url);\n",
       "      };\n",
       "      console.log(\"Bokeh: injecting script tag for BokehJS library: \", url);\n",
       "      document.getElementsByTagName(\"head\")[0].appendChild(s);\n",
       "    }\n",
       "  };var element = document.getElementById(\"890b216f-8e83-4d3f-9df4-6008ee0fb759\");\n",
       "  if (element == null) {\n",
       "    console.log(\"Bokeh: ERROR: autoload.js configured with elementid '890b216f-8e83-4d3f-9df4-6008ee0fb759' but no matching script tag was found. \")\n",
       "    return false;\n",
       "  }\n",
       "\n",
       "  var js_urls = [\"https://cdn.pydata.org/bokeh/release/bokeh-0.12.15.min.js\", \"https://cdn.pydata.org/bokeh/release/bokeh-widgets-0.12.15.min.js\", \"https://cdn.pydata.org/bokeh/release/bokeh-tables-0.12.15.min.js\", \"https://cdn.pydata.org/bokeh/release/bokeh-gl-0.12.15.min.js\"];\n",
       "\n",
       "  var inline_js = [\n",
       "    function(Bokeh) {\n",
       "      Bokeh.set_log_level(\"info\");\n",
       "    },\n",
       "    \n",
       "    function(Bokeh) {\n",
       "      \n",
       "    },\n",
       "    function(Bokeh) {\n",
       "      console.log(\"Bokeh: injecting CSS: https://cdn.pydata.org/bokeh/release/bokeh-0.12.15.min.css\");\n",
       "      Bokeh.embed.inject_css(\"https://cdn.pydata.org/bokeh/release/bokeh-0.12.15.min.css\");\n",
       "      console.log(\"Bokeh: injecting CSS: https://cdn.pydata.org/bokeh/release/bokeh-widgets-0.12.15.min.css\");\n",
       "      Bokeh.embed.inject_css(\"https://cdn.pydata.org/bokeh/release/bokeh-widgets-0.12.15.min.css\");\n",
       "      console.log(\"Bokeh: injecting CSS: https://cdn.pydata.org/bokeh/release/bokeh-tables-0.12.15.min.css\");\n",
       "      Bokeh.embed.inject_css(\"https://cdn.pydata.org/bokeh/release/bokeh-tables-0.12.15.min.css\");\n",
       "    }\n",
       "  ];\n",
       "\n",
       "  function run_inline_js() {\n",
       "    \n",
       "    if ((root.Bokeh !== undefined) || (force === true)) {\n",
       "      for (var i = 0; i < inline_js.length; i++) {\n",
       "        inline_js[i].call(root, root.Bokeh);\n",
       "      }if (force === true) {\n",
       "        display_loaded();\n",
       "      }} else if (Date.now() < root._bokeh_timeout) {\n",
       "      setTimeout(run_inline_js, 100);\n",
       "    } else if (!root._bokeh_failed_load) {\n",
       "      console.log(\"Bokeh: BokehJS failed to load within specified timeout.\");\n",
       "      root._bokeh_failed_load = true;\n",
       "    } else if (force !== true) {\n",
       "      var cell = $(document.getElementById(\"890b216f-8e83-4d3f-9df4-6008ee0fb759\")).parents('.cell').data().cell;\n",
       "      cell.output_area.append_execute_result(NB_LOAD_WARNING)\n",
       "    }\n",
       "\n",
       "  }\n",
       "\n",
       "  if (root._bokeh_is_loading === 0) {\n",
       "    console.log(\"Bokeh: BokehJS loaded, going straight to plotting\");\n",
       "    run_inline_js();\n",
       "  } else {\n",
       "    load_libs(js_urls, function() {\n",
       "      console.log(\"Bokeh: BokehJS plotting callback run at\", now());\n",
       "      run_inline_js();\n",
       "    });\n",
       "  }\n",
       "}(window));"
      ],
      "application/vnd.bokehjs_load.v0+json": "\n(function(root) {\n  function now() {\n    return new Date();\n  }\n\n  var force = true;\n\n  if (typeof (root._bokeh_onload_callbacks) === \"undefined\" || force === true) {\n    root._bokeh_onload_callbacks = [];\n    root._bokeh_is_loading = undefined;\n  }\n\n  \n\n  \n  if (typeof (root._bokeh_timeout) === \"undefined\" || force === true) {\n    root._bokeh_timeout = Date.now() + 5000;\n    root._bokeh_failed_load = false;\n  }\n\n  var NB_LOAD_WARNING = {'data': {'text/html':\n     \"<div style='background-color: #fdd'>\\n\"+\n     \"<p>\\n\"+\n     \"BokehJS does not appear to have successfully loaded. If loading BokehJS from CDN, this \\n\"+\n     \"may be due to a slow or bad network connection. Possible fixes:\\n\"+\n     \"</p>\\n\"+\n     \"<ul>\\n\"+\n     \"<li>re-rerun `output_notebook()` to attempt to load from CDN again, or</li>\\n\"+\n     \"<li>use INLINE resources instead, as so:</li>\\n\"+\n     \"</ul>\\n\"+\n     \"<code>\\n\"+\n     \"from bokeh.resources import INLINE\\n\"+\n     \"output_notebook(resources=INLINE)\\n\"+\n     \"</code>\\n\"+\n     \"</div>\"}};\n\n  function display_loaded() {\n    var el = document.getElementById(\"890b216f-8e83-4d3f-9df4-6008ee0fb759\");\n    if (el != null) {\n      el.textContent = \"BokehJS is loading...\";\n    }\n    if (root.Bokeh !== undefined) {\n      if (el != null) {\n        el.textContent = \"BokehJS \" + root.Bokeh.version + \" successfully loaded.\";\n      }\n    } else if (Date.now() < root._bokeh_timeout) {\n      setTimeout(display_loaded, 100)\n    }\n  }\n\n\n  function run_callbacks() {\n    try {\n      root._bokeh_onload_callbacks.forEach(function(callback) { callback() });\n    }\n    finally {\n      delete root._bokeh_onload_callbacks\n    }\n    console.info(\"Bokeh: all callbacks have finished\");\n  }\n\n  function load_libs(js_urls, callback) {\n    root._bokeh_onload_callbacks.push(callback);\n    if (root._bokeh_is_loading > 0) {\n      console.log(\"Bokeh: BokehJS is being loaded, scheduling callback at\", now());\n      return null;\n    }\n    if (js_urls == null || js_urls.length === 0) {\n      run_callbacks();\n      return null;\n    }\n    console.log(\"Bokeh: BokehJS not loaded, scheduling load and callback at\", now());\n    root._bokeh_is_loading = js_urls.length;\n    for (var i = 0; i < js_urls.length; i++) {\n      var url = js_urls[i];\n      var s = document.createElement('script');\n      s.src = url;\n      s.async = false;\n      s.onreadystatechange = s.onload = function() {\n        root._bokeh_is_loading--;\n        if (root._bokeh_is_loading === 0) {\n          console.log(\"Bokeh: all BokehJS libraries loaded\");\n          run_callbacks()\n        }\n      };\n      s.onerror = function() {\n        console.warn(\"failed to load library \" + url);\n      };\n      console.log(\"Bokeh: injecting script tag for BokehJS library: \", url);\n      document.getElementsByTagName(\"head\")[0].appendChild(s);\n    }\n  };var element = document.getElementById(\"890b216f-8e83-4d3f-9df4-6008ee0fb759\");\n  if (element == null) {\n    console.log(\"Bokeh: ERROR: autoload.js configured with elementid '890b216f-8e83-4d3f-9df4-6008ee0fb759' but no matching script tag was found. \")\n    return false;\n  }\n\n  var js_urls = [\"https://cdn.pydata.org/bokeh/release/bokeh-0.12.15.min.js\", \"https://cdn.pydata.org/bokeh/release/bokeh-widgets-0.12.15.min.js\", \"https://cdn.pydata.org/bokeh/release/bokeh-tables-0.12.15.min.js\", \"https://cdn.pydata.org/bokeh/release/bokeh-gl-0.12.15.min.js\"];\n\n  var inline_js = [\n    function(Bokeh) {\n      Bokeh.set_log_level(\"info\");\n    },\n    \n    function(Bokeh) {\n      \n    },\n    function(Bokeh) {\n      console.log(\"Bokeh: injecting CSS: https://cdn.pydata.org/bokeh/release/bokeh-0.12.15.min.css\");\n      Bokeh.embed.inject_css(\"https://cdn.pydata.org/bokeh/release/bokeh-0.12.15.min.css\");\n      console.log(\"Bokeh: injecting CSS: https://cdn.pydata.org/bokeh/release/bokeh-widgets-0.12.15.min.css\");\n      Bokeh.embed.inject_css(\"https://cdn.pydata.org/bokeh/release/bokeh-widgets-0.12.15.min.css\");\n      console.log(\"Bokeh: injecting CSS: https://cdn.pydata.org/bokeh/release/bokeh-tables-0.12.15.min.css\");\n      Bokeh.embed.inject_css(\"https://cdn.pydata.org/bokeh/release/bokeh-tables-0.12.15.min.css\");\n    }\n  ];\n\n  function run_inline_js() {\n    \n    if ((root.Bokeh !== undefined) || (force === true)) {\n      for (var i = 0; i < inline_js.length; i++) {\n        inline_js[i].call(root, root.Bokeh);\n      }if (force === true) {\n        display_loaded();\n      }} else if (Date.now() < root._bokeh_timeout) {\n      setTimeout(run_inline_js, 100);\n    } else if (!root._bokeh_failed_load) {\n      console.log(\"Bokeh: BokehJS failed to load within specified timeout.\");\n      root._bokeh_failed_load = true;\n    } else if (force !== true) {\n      var cell = $(document.getElementById(\"890b216f-8e83-4d3f-9df4-6008ee0fb759\")).parents('.cell').data().cell;\n      cell.output_area.append_execute_result(NB_LOAD_WARNING)\n    }\n\n  }\n\n  if (root._bokeh_is_loading === 0) {\n    console.log(\"Bokeh: BokehJS loaded, going straight to plotting\");\n    run_inline_js();\n  } else {\n    load_libs(js_urls, function() {\n      console.log(\"Bokeh: BokehJS plotting callback run at\", now());\n      run_inline_js();\n    });\n  }\n}(window));"
     },
     "metadata": {},
     "output_type": "display_data"
    }
   ],
   "source": [
    "from bokeh.plotting import figure, show, output_notebook\n",
    "from bokeh.models import HoverTool, ColumnDataSource, value\n",
    "output_notebook()"
   ]
  },
  {
   "cell_type": "code",
   "execution_count": 21,
   "metadata": {},
   "outputs": [
    {
     "data": {
      "text/html": [
       "<div>\n",
       "<style scoped>\n",
       "    .dataframe tbody tr th:only-of-type {\n",
       "        vertical-align: middle;\n",
       "    }\n",
       "\n",
       "    .dataframe tbody tr th {\n",
       "        vertical-align: top;\n",
       "    }\n",
       "\n",
       "    .dataframe thead th {\n",
       "        text-align: right;\n",
       "    }\n",
       "</style>\n",
       "<table border=\"1\" class=\"dataframe\">\n",
       "  <thead>\n",
       "    <tr style=\"text-align: right;\">\n",
       "      <th></th>\n",
       "      <th>x_coord</th>\n",
       "      <th>y_coord</th>\n",
       "    </tr>\n",
       "    <tr>\n",
       "      <th>word</th>\n",
       "      <th></th>\n",
       "      <th></th>\n",
       "    </tr>\n",
       "  </thead>\n",
       "  <tbody>\n",
       "    <tr>\n",
       "      <th>the</th>\n",
       "      <td>-17.911840</td>\n",
       "      <td>-13.161377</td>\n",
       "    </tr>\n",
       "    <tr>\n",
       "      <th>to</th>\n",
       "      <td>1.054723</td>\n",
       "      <td>7.896479</td>\n",
       "    </tr>\n",
       "    <tr>\n",
       "      <th>of</th>\n",
       "      <td>-17.263145</td>\n",
       "      <td>-12.283184</td>\n",
       "    </tr>\n",
       "    <tr>\n",
       "      <th>and</th>\n",
       "      <td>-14.452357</td>\n",
       "      <td>-16.845068</td>\n",
       "    </tr>\n",
       "    <tr>\n",
       "      <th>her</th>\n",
       "      <td>-15.770219</td>\n",
       "      <td>-16.054001</td>\n",
       "    </tr>\n",
       "  </tbody>\n",
       "</table>\n",
       "</div>"
      ],
      "text/plain": [
       "        x_coord    y_coord\n",
       "word                      \n",
       "the  -17.911840 -13.161377\n",
       "to     1.054723   7.896479\n",
       "of   -17.263145 -12.283184\n",
       "and  -14.452357 -16.845068\n",
       "her  -15.770219 -16.054001"
      ]
     },
     "execution_count": 21,
     "metadata": {},
     "output_type": "execute_result"
    }
   ],
   "source": [
    "#create a dataframe to plot with\n",
    "df = pd.DataFrame(tsne_vectors,index=words,columns=['x_coord','y_coord'])\n",
    "df.index.name = 'word'\n",
    "df.head()"
   ]
  },
  {
   "cell_type": "code",
   "execution_count": 22,
   "metadata": {},
   "outputs": [],
   "source": [
    "# add our DataFrame as a ColumnDataSource for Bokeh\n",
    "plot_data = ColumnDataSource(df)\n",
    "\n",
    "# create the plot and configure the\n",
    "# title, dimensions, and tools\n",
    "tsne_plot = figure(title=u't-SNE Word Embeddings',\n",
    "                   plot_width = 800,\n",
    "                   plot_height = 800,\n",
    "                   tools= (u'pan, wheel_zoom, box_zoom,'\n",
    "                           u'box_select, reset'),\n",
    "                   active_scroll=u'wheel_zoom')\n"
   ]
  },
  {
   "cell_type": "code",
   "execution_count": 23,
   "metadata": {},
   "outputs": [
    {
     "data": {
      "text/html": [
       "\n",
       "<div class=\"bk-root\">\n",
       "    <div class=\"bk-plotdiv\" id=\"d3aad51c-c63d-4010-aa67-39357b9729b7\"></div>\n",
       "</div>"
      ]
     },
     "metadata": {},
     "output_type": "display_data"
    },
    {
     "data": {
      "application/javascript": [
       "(function(root) {\n",
       "  function embed_document(root) {\n",
       "    \n",
       "  var docs_json = {\"73fff69e-73f3-48aa-9f5d-e1cef27e0b34\":{\"roots\":{\"references\":[{\"attributes\":{},\"id\":\"7d6fd628-a3fd-431f-a276-cbc58c8c0b13\",\"type\":\"BasicTicker\"},{\"attributes\":{\"overlay\":{\"id\":\"8ba80741-00e8-44ab-b20f-25666b3d5976\",\"type\":\"BoxAnnotation\"}},\"id\":\"034605f3-30dd-4134-9405-b560bbb0d2be\",\"type\":\"BoxZoomTool\"},{\"attributes\":{\"callback\":null,\"overlay\":{\"id\":\"f9fef2b0-bda8-48aa-981b-052682b3196d\",\"type\":\"BoxAnnotation\"},\"renderers\":[{\"id\":\"b7c08a9d-9008-4156-9159-a53c147a5b31\",\"type\":\"GlyphRenderer\"}]},\"id\":\"d623ace6-ff03-46d4-bc59-52f4a671a940\",\"type\":\"BoxSelectTool\"},{\"attributes\":{},\"id\":\"ab32aedb-0b38-447e-af6f-6419f26081ed\",\"type\":\"BasicTicker\"},{\"attributes\":{},\"id\":\"8d4e733c-c18f-47b9-8072-681d951abdf6\",\"type\":\"LinearScale\"},{\"attributes\":{},\"id\":\"35cee960-f266-446b-96d8-25d6a30027fc\",\"type\":\"ResetTool\"},{\"attributes\":{\"grid_line_color\":{\"value\":null},\"plot\":{\"id\":\"1dab099a-a474-463a-be44-7010c631807e\",\"subtype\":\"Figure\",\"type\":\"Plot\"},\"ticker\":{\"id\":\"ab32aedb-0b38-447e-af6f-6419f26081ed\",\"type\":\"BasicTicker\"}},\"id\":\"bb577773-ab86-4fa7-bbd7-838eae04c5b8\",\"type\":\"Grid\"},{\"attributes\":{\"callback\":null,\"column_names\":[\"x_coord\",\"y_coord\",\"word\"],\"data\":{\"word\":[\"the\",\"to\",\"of\",\"and\",\"her\",\"in\",\"was\",\"she\",\"that\",\"it\",\"not\",\"you\",\"he\",\"be\",\"his\",\"as\",\"had\",\"with\",\"for\",\"but\",\"is\",\"have\",\"at\",\"mr\",\"him\",\"on\",\"my\",\"by\",\"all\",\"elizabeth\",\"they\",\"so\",\"were\",\"which\",\"could\",\"been\",\"from\",\"no\",\"this\",\"very\",\"what\",\"would\",\"your\",\"their\",\"me\",\"them\",\"darcy\",\"will\",\"said\",\"such\",\"or\",\"when\",\"if\",\"an\",\"do\",\"are\",\"there\",\"mrs\",\"much\",\"more\",\"bennet\",\"am\",\"must\",\"bingley\",\"any\",\"jane\",\"who\",\"than\",\"miss\",\"one\",\"did\",\"we\",\"should\",\"know\",\"how\",\"before\",\"herself\",\"though\",\"other\",\"well\",\"has\",\"can\",\"never\",\"sister\",\"only\",\"soon\",\"think\",\"some\",\"may\",\"now\",\"time\",\"good\",\"after\",\"might\",\"every\",\"wickham\",\"lady\",\"most\",\"little\",\"own\",\"collins\",\"without\",\"nothing\",\"again\",\"then\",\"being\",\"lydia\",\"make\",\"shall\",\"say\",\"dear\",\"see\",\"man\",\"family\",\"room\",\"first\",\"day\",\"into\",\"great\",\"too\",\"mother\",\"however\",\"father\",\"out\",\"two\",\"about\",\"young\",\"ever\",\"himself\",\"made\",\"up\",\"give\",\"catherine\",\"hope\",\"us\",\"many\",\"last\",\"always\",\"away\",\"letter\",\"long\",\"cannot\",\"friend\",\"thought\",\"its\",\"way\",\"house\",\"enough\",\"go\",\"replied\",\"saw\",\"sure\",\"felt\",\"wish\",\"lizzy\",\"manner\",\"gardiner\",\"oh\",\"quite\",\"having\",\"indeed\",\"come\",\"till\",\"myself\",\"love\",\"better\",\"pleasure\",\"where\",\"done\",\"cried\",\"over\",\"gutenberg\",\"came\",\"often\",\"really\",\"longbourn\",\"believe\",\"project\",\"feelings\",\"does\",\"subject\",\"whom\",\"charlotte\",\"heard\",\"daughter\",\"even\",\"aunt\",\"happy\",\"anything\",\"take\",\"morning\",\"whole\",\"brother\",\"sir\",\"upon\",\"our\",\"like\",\"less\",\"place\",\"perhaps\",\"sisters\",\"while\",\"seen\",\"yes\",\"let\",\"therefore\",\"ill\",\"evening\",\"ladies\",\"looked\",\"netherfield\",\"just\",\"down\",\"nor\",\"yet\",\"both\",\"still\",\"certainly\",\"few\",\"these\",\"hear\",\"happiness\",\"tell\",\"next\",\"something\",\"kitty\",\"added\",\"lucas\",\"moment\",\"same\",\"told\",\"half\",\"found\",\"uncle\",\"opinion\",\"attention\",\"here\",\"towards\",\"present\",\"went\",\"town\",\"speak\",\"world\",\"seemed\",\"home\",\"received\",\"marriage\",\"colonel\",\"work\",\"answer\",\"least\",\"left\",\"character\",\"part\",\"together\",\"each\",\"between\",\"because\",\"gone\",\"off\",\"leave\",\"kind\",\"chapter\",\"married\",\"conversation\",\"passed\",\"immediately\",\"woman\",\"three\",\"those\",\"either\",\"seeing\",\"means\",\"almost\",\"coming\",\"since\",\"began\",\"whose\",\"known\",\"party\",\"find\",\"affection\",\"far\",\"mind\",\"life\",\"knew\",\"certain\",\"once\",\"going\",\"look\",\"meryton\",\"tm\",\"another\",\"given\",\"possible\",\"friends\",\"london\",\"behaviour\",\"rather\",\"general\",\"others\",\"person\",\"gave\",\"whether\",\"able\",\"side\",\"why\",\"visit\",\"people\",\"against\",\"took\",\"pemberley\",\"get\",\"acquaintance\",\"return\",\"pride\",\"continued\",\"eyes\",\"walk\",\"reason\",\"daughters\",\"husband\",\"yourself\",\"word\",\"idea\",\"cousin\",\"regard\",\"rosings\",\"settled\",\"object\",\"suppose\",\"wife\",\"business\",\"perfectly\",\"course\",\"william\",\"hardly\",\"point\",\"returned\",\"girls\",\"agreeable\",\"heart\",\"manners\",\"scarcely\",\"want\",\"ought\",\"impossible\",\"read\",\"walked\",\"help\",\"carriage\",\"everything\",\"through\",\"longer\",\"else\",\"expected\",\"turned\",\"short\",\"country\",\"right\",\"thing\",\"honour\",\"spoke\",\"power\",\"civility\",\"terms\",\"ladyship\",\"marry\",\"best\",\"back\",\"called\",\"hertfordshire\",\"dare\",\"rest\",\"met\",\"asked\",\"convinced\",\"fortune\",\"assure\",\"mary\",\"wished\",\"pleased\",\"gentleman\",\"spirits\",\"set\",\"former\",\"talking\",\"forster\",\"write\",\"de\",\"bourgh\",\"likely\",\"occasion\",\"account\",\"poor\",\"sat\",\"gentlemen\",\"within\",\"talked\",\"everybody\",\"engaged\",\"girl\",\"hour\",\"situation\",\"feeling\",\"neither\",\"feel\",\"under\",\"sort\",\"handsome\",\"glad\",\"making\",\"afraid\",\"minutes\",\"brought\",\"different\",\"surprise\",\"doubt\",\"stay\",\"believed\",\"fitzwilliam\",\"years\",\"ball\",\"entered\",\"amiable\",\"near\",\"also\",\"sense\",\"beyond\",\"four\",\"information\",\"door\",\"dinner\",\"care\",\"expect\",\"sometimes\",\"table\",\"night\",\"saying\",\"invitation\",\"name\",\"thousand\",\"themselves\",\"men\",\"mean\",\"advantage\",\"sorry\",\"days\",\"looking\",\"deal\",\"wonder\",\"silence\",\"satisfied\",\"surprised\",\"answered\",\"whatever\",\"wishes\",\"usual\",\"consider\",\"merely\",\"ten\",\"hurst\",\"speaking\",\"society\",\"five\",\"talk\",\"determined\",\"news\",\"meet\",\"sensible\",\"dance\",\"ask\",\"afterwards\",\"particularly\",\"consequence\",\"head\",\"case\",\"allow\",\"length\",\"full\",\"works\",\"taken\",\"end\",\"fine\",\"understand\",\"alone\",\"appeared\",\"necessary\",\"put\",\"real\",\"things\",\"officers\",\"receive\",\"instantly\",\"phillips\",\"comfort\",\"appear\",\"resolved\",\"respect\",\"mention\",\"astonishment\",\"arrival\",\"countenance\",\"air\",\"particular\",\"equal\",\"words\",\"opportunity\",\"exactly\",\"appearance\",\"money\",\"neighbourhood\",\"week\",\"year\",\"kindness\",\"matter\",\"obliged\",\"already\",\"younger\",\"lost\",\"smile\",\"foundation\",\"keep\",\"highly\",\"credit\",\"early\",\"mentioned\",\"anyone\",\"offer\",\"easily\",\"joined\",\"thus\",\"assured\",\"call\",\"pain\",\"master\",\"circumstances\",\"truth\",\"beauty\",\"second\",\"meant\",\"imagine\",\"during\",\"liked\",\"importance\",\"observed\",\"attachment\",\"hours\",\"face\",\"turn\",\"knowing\",\"forward\",\"absence\",\"satisfaction\",\"electronic\",\"use\",\"following\",\"reply\",\"new\",\"walking\",\"expressed\",\"compliment\",\"anxious\",\"allowed\",\"true\",\"attentions\",\"doing\",\"silent\",\"pray\",\"breakfast\",\"supposed\",\"concern\",\"wholly\",\"exceedingly\",\"ago\",\"send\",\"giving\",\"children\",\"delight\",\"humour\",\"among\",\"paid\",\"hand\",\"followed\",\"easy\",\"admiration\",\"disposition\",\"got\",\"greater\",\"interest\",\"small\",\"express\",\"entirely\",\"thoughts\",\"except\",\"change\",\"bear\",\"hunsford\",\"state\",\"persuaded\",\"hearing\",\"temper\",\"acquainted\",\"library\",\"fear\",\"derbyshire\",\"unless\",\"several\",\"pretty\",\"anybody\",\"pounds\",\"nature\",\"self\",\"used\",\"gratitude\",\"attended\",\"notice\",\"serious\",\"wanted\",\"relations\",\"probably\",\"living\",\"happened\",\"match\",\"brighton\",\"considered\",\"large\",\"delighted\",\"marrying\",\"desire\",\"depend\",\"sake\",\"fortnight\",\"hopes\",\"dislike\",\"remained\",\"curiosity\",\"spite\",\"question\",\"directly\",\"whenever\",\"degree\",\"prevented\",\"inquiries\",\"conduct\",\"especially\",\"frequently\",\"fixed\",\"park\",\"design\",\"spent\",\"proud\",\"company\",\"event\",\"pleasing\",\"praise\",\"natural\",\"eliza\",\"favour\",\"remember\",\"favourite\",\"regiment\",\"seems\",\"latter\",\"voice\",\"meeting\",\"inclination\",\"further\",\"fair\",\"written\",\"son\",\"niece\",\"thinking\",\"live\",\"understanding\",\"intended\",\"promised\",\"pleasant\",\"dancing\",\"instead\",\"above\",\"sitting\",\"mistaken\",\"listened\",\"public\",\"expression\",\"attempt\",\"repeated\",\"yours\",\"drawing\",\"sent\",\"madam\",\"wrote\",\"agreement\",\"trouble\",\"receiving\",\"nephew\",\"cause\",\"months\",\"journey\",\"acknowledged\",\"knowledge\",\"times\",\"morrow\",\"choose\",\"excellent\",\"equally\",\"women\",\"estate\",\"hoped\",\"maria\",\"charming\",\"address\",\"purpose\",\"vain\",\"greatest\",\"endeavour\",\"forced\",\"proper\",\"ready\",\"engagement\",\"particulars\",\"need\",\"connection\",\"none\",\"intelligence\",\"delightful\",\"eldest\",\"law\",\"drew\",\"join\",\"fancy\",\"common\",\"circumstance\",\"removed\",\"success\",\"taking\",\"danger\",\"resolution\",\"anxiety\",\"affected\",\"late\",\"comprehend\",\"strong\",\"thank\",\"street\",\"summer\",\"expectation\",\"regret\",\"chance\",\"persuade\",\"accept\",\"bring\",\"book\",\"admire\",\"superior\",\"smiled\",\"civil\",\"absolutely\",\"vanity\",\"evident\",\"slight\",\"felicity\",\"light\",\"play\",\"reached\",\"pause\",\"avoid\",\"connections\",\"servant\",\"dining\",\"accepted\",\"cold\",\"leaving\",\"health\",\"affair\",\"concerned\",\"weeks\",\"future\",\"parsonage\",\"stairs\",\"led\",\"effect\",\"capable\",\"high\",\"twenty\",\"addressed\",\"forget\",\"report\",\"sight\",\"angry\",\"resentment\",\"partner\",\"round\",\"nobody\",\"ease\",\"perfect\",\"likewise\",\"please\",\"beg\",\"promise\",\"form\",\"united\",\"laugh\",\"open\",\"politeness\",\"indifference\",\"opened\",\"caroline\",\"scheme\",\"dearest\",\"motive\",\"view\",\"readily\",\"wait\",\"proved\",\"loss\",\"saturday\",\"kept\",\"affectionate\",\"disappointment\",\"prevent\",\"comes\",\"extraordinary\",\"ignorant\",\"suddenly\",\"questions\",\"fond\",\"step\",\"window\",\"advice\",\"related\",\"chose\",\"seem\",\"excuse\",\"generally\",\"composure\",\"pass\",\"companion\",\"distance\",\"dine\",\"miles\",\"spoken\",\"otherwise\",\"tone\",\"housekeeper\",\"chief\",\"writing\",\"formed\",\"letters\",\"conviction\",\"tried\",\"confess\",\"pardon\",\"indifferent\",\"became\",\"blame\",\"distress\",\"marked\",\"scene\",\"ashamed\",\"objection\",\"says\",\"share\",\"old\",\"agree\",\"extremely\",\"lively\",\"fortunate\",\"arrived\",\"declared\",\"principal\",\"sit\",\"beautiful\",\"eye\",\"worth\",\"bad\",\"disposed\",\"choice\",\"age\",\"period\",\"intention\",\"wrong\",\"duty\",\"winter\",\"calling\",\"reading\",\"trust\",\"assurance\",\"prevailed\",\"seated\",\"justice\",\"earnest\",\"georgiana\",\"supposing\",\"farther\",\"belief\",\"reasonable\",\"license\",\"donations\",\"compassion\",\"consideration\",\"unable\",\"meaning\",\"books\",\"assistance\",\"disagreeable\",\"creature\",\"behind\",\"tolerable\",\"twice\",\"gratified\",\"learnt\",\"lived\",\"struck\",\"elegant\",\"asking\",\"thanks\",\"observation\",\"fact\",\"respectable\",\"greatly\",\"lucases\",\"influence\",\"tolerably\",\"secure\",\"eagerly\",\"stood\",\"considering\",\"wishing\",\"interesting\",\"astonished\",\"aware\",\"parted\",\"alarm\",\"possibility\",\"prospect\",\"child\",\"determine\",\"evil\",\"kent\",\"connected\",\"painful\",\"visitors\",\"occurred\",\"immediate\",\"misery\",\"wedding\",\"sentence\",\"road\",\"charge\",\"states\",\"copyright\",\"agreed\",\"servants\",\"consent\",\"suffer\",\"ideas\",\"youngest\",\"etc\",\"entrance\",\"standing\",\"turning\",\"stranger\",\"spend\",\"intimate\",\"opening\",\"conceal\",\"leisure\",\"plan\",\"sooner\",\"plain\",\"taste\",\"request\",\"frequent\",\"yesterday\",\"finding\",\"clothes\",\"enjoyment\",\"picture\",\"worse\",\"relief\",\"partiality\",\"comparison\",\"ran\",\"tea\",\"grateful\",\"hall\",\"produced\",\"beginning\",\"permission\",\"understood\",\"eager\",\"dared\",\"constant\",\"deceived\",\"anger\",\"interference\",\"seriously\",\"distressed\"],\"x_coord\":{\"__ndarray__\":\"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\",\"dtype\":\"float32\",\"shape\":[1000]},\"y_coord\":{\"__ndarray__\":\"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\",\"dtype\":\"float32\",\"shape\":[1000]}},\"selected\":null,\"selection_policy\":null},\"id\":\"40f9db3c-503e-457b-b854-c35cf54ad687\",\"type\":\"ColumnDataSource\"},{\"attributes\":{\"bottom_units\":\"screen\",\"fill_alpha\":{\"value\":0.5},\"fill_color\":{\"value\":\"lightgrey\"},\"left_units\":\"screen\",\"level\":\"overlay\",\"line_alpha\":{\"value\":1.0},\"line_color\":{\"value\":\"black\"},\"line_dash\":[4,4],\"line_width\":{\"value\":2},\"plot\":null,\"render_mode\":\"css\",\"right_units\":\"screen\",\"top_units\":\"screen\"},\"id\":\"f9fef2b0-bda8-48aa-981b-052682b3196d\",\"type\":\"BoxAnnotation\"},{\"attributes\":{\"callback\":null,\"tooltips\":\"@word\"},\"id\":\"a37834ed-6cdf-4b6a-9868-0e6d13ea0135\",\"type\":\"HoverTool\"},{\"attributes\":{\"callback\":null},\"id\":\"052db60c-77a8-4455-9d68-f489c008ace8\",\"type\":\"DataRange1d\"},{\"attributes\":{\"formatter\":{\"id\":\"e1f16465-ee1f-490d-a21b-2bd8d1ef8301\",\"type\":\"BasicTickFormatter\"},\"plot\":{\"id\":\"1dab099a-a474-463a-be44-7010c631807e\",\"subtype\":\"Figure\",\"type\":\"Plot\"},\"ticker\":{\"id\":\"ab32aedb-0b38-447e-af6f-6419f26081ed\",\"type\":\"BasicTicker\"},\"visible\":false},\"id\":\"695f28fe-cf92-4955-bba9-e49f6c92d595\",\"type\":\"LinearAxis\"},{\"attributes\":{\"fill_alpha\":{\"value\":0.1},\"fill_color\":{\"value\":\"blue\"},\"line_alpha\":{\"value\":0.2},\"line_color\":{\"value\":\"blue\"},\"size\":{\"units\":\"screen\",\"value\":10},\"x\":{\"field\":\"x_coord\"},\"y\":{\"field\":\"y_coord\"}},\"id\":\"d61b89bf-dcc1-43b9-9056-68d48f0c1697\",\"type\":\"Circle\"},{\"attributes\":{\"dimension\":1,\"grid_line_color\":{\"value\":null},\"plot\":{\"id\":\"1dab099a-a474-463a-be44-7010c631807e\",\"subtype\":\"Figure\",\"type\":\"Plot\"},\"ticker\":{\"id\":\"7d6fd628-a3fd-431f-a276-cbc58c8c0b13\",\"type\":\"BasicTicker\"}},\"id\":\"295e9df5-2767-47b4-aff9-b22da1eff956\",\"type\":\"Grid\"},{\"attributes\":{\"plot\":null,\"text\":\"t-SNE Word Embeddings\",\"text_font_size\":{\"value\":\"16pt\"}},\"id\":\"e7fcda85-fb76-499d-bb46-46fa3d0f127a\",\"type\":\"Title\"},{\"attributes\":{\"active_drag\":\"auto\",\"active_inspect\":\"auto\",\"active_scroll\":{\"id\":\"598fa614-3654-491f-b8f9-f190e489cf2a\",\"type\":\"WheelZoomTool\"},\"active_tap\":\"auto\",\"tools\":[{\"id\":\"efef3b3f-de1f-4aa9-b79d-de8379368761\",\"type\":\"PanTool\"},{\"id\":\"598fa614-3654-491f-b8f9-f190e489cf2a\",\"type\":\"WheelZoomTool\"},{\"id\":\"034605f3-30dd-4134-9405-b560bbb0d2be\",\"type\":\"BoxZoomTool\"},{\"id\":\"d623ace6-ff03-46d4-bc59-52f4a671a940\",\"type\":\"BoxSelectTool\"},{\"id\":\"35cee960-f266-446b-96d8-25d6a30027fc\",\"type\":\"ResetTool\"},{\"id\":\"a37834ed-6cdf-4b6a-9868-0e6d13ea0135\",\"type\":\"HoverTool\"}]},\"id\":\"3bf9f84a-fe72-4417-be56-198a6b287eba\",\"type\":\"Toolbar\"},{\"attributes\":{\"fill_color\":{\"value\":\"#1f77b4\"},\"size\":{\"units\":\"screen\",\"value\":10},\"x\":{\"field\":\"x_coord\"},\"y\":{\"field\":\"y_coord\"}},\"id\":\"5aeb715f-c288-4adb-8544-7dec2922ee69\",\"type\":\"Circle\"},{\"attributes\":{},\"id\":\"4fc05dc4-60ce-40fa-9261-cae4d0ceb5a0\",\"type\":\"LinearScale\"},{\"attributes\":{\"callback\":null},\"id\":\"532cff3c-2b77-4df4-9c8e-350ddaeff39c\",\"type\":\"DataRange1d\"},{\"attributes\":{\"fill_alpha\":{\"value\":0.1},\"fill_color\":{\"value\":\"#1f77b4\"},\"line_alpha\":{\"value\":0.1},\"line_color\":{\"value\":\"#1f77b4\"},\"size\":{\"units\":\"screen\",\"value\":10},\"x\":{\"field\":\"x_coord\"},\"y\":{\"field\":\"y_coord\"}},\"id\":\"7f8f6deb-9cb2-4be4-817f-43843aa7866f\",\"type\":\"Circle\"},{\"attributes\":{\"bottom_units\":\"screen\",\"fill_alpha\":{\"value\":0.5},\"fill_color\":{\"value\":\"lightgrey\"},\"left_units\":\"screen\",\"level\":\"overlay\",\"line_alpha\":{\"value\":1.0},\"line_color\":{\"value\":\"black\"},\"line_dash\":[4,4],\"line_width\":{\"value\":2},\"plot\":null,\"render_mode\":\"css\",\"right_units\":\"screen\",\"top_units\":\"screen\"},\"id\":\"8ba80741-00e8-44ab-b20f-25666b3d5976\",\"type\":\"BoxAnnotation\"},{\"attributes\":{\"source\":{\"id\":\"40f9db3c-503e-457b-b854-c35cf54ad687\",\"type\":\"ColumnDataSource\"}},\"id\":\"fa4a1124-81ff-4aa7-a7e7-7323f0ad06ba\",\"type\":\"CDSView\"},{\"attributes\":{\"data_source\":{\"id\":\"40f9db3c-503e-457b-b854-c35cf54ad687\",\"type\":\"ColumnDataSource\"},\"glyph\":{\"id\":\"d61b89bf-dcc1-43b9-9056-68d48f0c1697\",\"type\":\"Circle\"},\"hover_glyph\":{\"id\":\"5aeb715f-c288-4adb-8544-7dec2922ee69\",\"type\":\"Circle\"},\"muted_glyph\":null,\"nonselection_glyph\":{\"id\":\"7f8f6deb-9cb2-4be4-817f-43843aa7866f\",\"type\":\"Circle\"},\"selection_glyph\":null,\"view\":{\"id\":\"fa4a1124-81ff-4aa7-a7e7-7323f0ad06ba\",\"type\":\"CDSView\"}},\"id\":\"b7c08a9d-9008-4156-9159-a53c147a5b31\",\"type\":\"GlyphRenderer\"},{\"attributes\":{\"below\":[{\"id\":\"695f28fe-cf92-4955-bba9-e49f6c92d595\",\"type\":\"LinearAxis\"}],\"left\":[{\"id\":\"432bd811-e1ca-4088-93e1-e4556f333f44\",\"type\":\"LinearAxis\"}],\"outline_line_color\":{\"value\":null},\"plot_height\":800,\"plot_width\":800,\"renderers\":[{\"id\":\"695f28fe-cf92-4955-bba9-e49f6c92d595\",\"type\":\"LinearAxis\"},{\"id\":\"bb577773-ab86-4fa7-bbd7-838eae04c5b8\",\"type\":\"Grid\"},{\"id\":\"432bd811-e1ca-4088-93e1-e4556f333f44\",\"type\":\"LinearAxis\"},{\"id\":\"295e9df5-2767-47b4-aff9-b22da1eff956\",\"type\":\"Grid\"},{\"id\":\"8ba80741-00e8-44ab-b20f-25666b3d5976\",\"type\":\"BoxAnnotation\"},{\"id\":\"f9fef2b0-bda8-48aa-981b-052682b3196d\",\"type\":\"BoxAnnotation\"},{\"id\":\"b7c08a9d-9008-4156-9159-a53c147a5b31\",\"type\":\"GlyphRenderer\"}],\"title\":{\"id\":\"e7fcda85-fb76-499d-bb46-46fa3d0f127a\",\"type\":\"Title\"},\"toolbar\":{\"id\":\"3bf9f84a-fe72-4417-be56-198a6b287eba\",\"type\":\"Toolbar\"},\"x_range\":{\"id\":\"052db60c-77a8-4455-9d68-f489c008ace8\",\"type\":\"DataRange1d\"},\"x_scale\":{\"id\":\"4fc05dc4-60ce-40fa-9261-cae4d0ceb5a0\",\"type\":\"LinearScale\"},\"y_range\":{\"id\":\"532cff3c-2b77-4df4-9c8e-350ddaeff39c\",\"type\":\"DataRange1d\"},\"y_scale\":{\"id\":\"8d4e733c-c18f-47b9-8072-681d951abdf6\",\"type\":\"LinearScale\"}},\"id\":\"1dab099a-a474-463a-be44-7010c631807e\",\"subtype\":\"Figure\",\"type\":\"Plot\"},{\"attributes\":{},\"id\":\"efef3b3f-de1f-4aa9-b79d-de8379368761\",\"type\":\"PanTool\"},{\"attributes\":{},\"id\":\"598fa614-3654-491f-b8f9-f190e489cf2a\",\"type\":\"WheelZoomTool\"},{\"attributes\":{},\"id\":\"ece752c3-bdcf-4305-bb40-051cfbf1072c\",\"type\":\"BasicTickFormatter\"},{\"attributes\":{\"formatter\":{\"id\":\"ece752c3-bdcf-4305-bb40-051cfbf1072c\",\"type\":\"BasicTickFormatter\"},\"plot\":{\"id\":\"1dab099a-a474-463a-be44-7010c631807e\",\"subtype\":\"Figure\",\"type\":\"Plot\"},\"ticker\":{\"id\":\"7d6fd628-a3fd-431f-a276-cbc58c8c0b13\",\"type\":\"BasicTicker\"},\"visible\":false},\"id\":\"432bd811-e1ca-4088-93e1-e4556f333f44\",\"type\":\"LinearAxis\"},{\"attributes\":{},\"id\":\"e1f16465-ee1f-490d-a21b-2bd8d1ef8301\",\"type\":\"BasicTickFormatter\"}],\"root_ids\":[\"1dab099a-a474-463a-be44-7010c631807e\"]},\"title\":\"Bokeh Application\",\"version\":\"0.12.15\"}};\n",
       "  var render_items = [{\"docid\":\"73fff69e-73f3-48aa-9f5d-e1cef27e0b34\",\"elementid\":\"d3aad51c-c63d-4010-aa67-39357b9729b7\",\"modelid\":\"1dab099a-a474-463a-be44-7010c631807e\"}];\n",
       "  root.Bokeh.embed.embed_items_notebook(docs_json, render_items);\n",
       "\n",
       "  }\n",
       "  if (root.Bokeh !== undefined) {\n",
       "    embed_document(root);\n",
       "  } else {\n",
       "    var attempts = 0;\n",
       "    var timer = setInterval(function(root) {\n",
       "      if (root.Bokeh !== undefined) {\n",
       "        embed_document(root);\n",
       "        clearInterval(timer);\n",
       "      }\n",
       "      attempts++;\n",
       "      if (attempts > 100) {\n",
       "        console.log(\"Bokeh: ERROR: Unable to run BokehJS code because BokehJS library is missing\")\n",
       "        clearInterval(timer);\n",
       "      }\n",
       "    }, 10, root)\n",
       "  }\n",
       "})(window);"
      ],
      "application/vnd.bokehjs_exec.v0+json": ""
     },
     "metadata": {
      "application/vnd.bokehjs_exec.v0+json": {
       "id": "1dab099a-a474-463a-be44-7010c631807e"
      }
     },
     "output_type": "display_data"
    }
   ],
   "source": [
    "\n",
    "# add a hover tool to display words on roll-over\n",
    "tsne_plot.add_tools( HoverTool(tooltips = u'@word') )\n",
    "\n",
    "# draw the words as circles on the plot\n",
    "tsne_plot.circle(u'x_coord', u'y_coord', source=plot_data,\n",
    "                 color=u'blue', line_alpha=0.2, fill_alpha=0.1,\n",
    "                 size=10, hover_line_color=u'black')\n",
    "\n",
    "# configure visual elements of the plot\n",
    "tsne_plot.title.text_font_size = value(u'16pt')\n",
    "tsne_plot.xaxis.visible = False\n",
    "tsne_plot.yaxis.visible = False\n",
    "tsne_plot.grid.grid_line_color = None\n",
    "tsne_plot.outline_line_color = None\n",
    "\n",
    "# plot!\n",
    "show(tsne_plot);"
   ]
  },
  {
   "cell_type": "code",
   "execution_count": null,
   "metadata": {},
   "outputs": [],
   "source": []
  }
 ],
 "metadata": {
  "kernelspec": {
   "display_name": "Python 3",
   "language": "python",
   "name": "python3"
  },
  "language_info": {
   "codemirror_mode": {
    "name": "ipython",
    "version": 3
   },
   "file_extension": ".py",
   "mimetype": "text/x-python",
   "name": "python",
   "nbconvert_exporter": "python",
   "pygments_lexer": "ipython3",
   "version": "3.6.4"
  }
 },
 "nbformat": 4,
 "nbformat_minor": 2
}
