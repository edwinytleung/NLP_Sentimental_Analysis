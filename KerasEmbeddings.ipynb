{
 "cells": [
  {
   "cell_type": "markdown",
   "metadata": {},
   "source": [
    "# Embedding layers with keras\n"
   ]
  },
  {
   "cell_type": "markdown",
   "metadata": {},
   "source": [
    "Well use the imdb dataset to learn word embeddings as we train our dataset. This dataset contains 25,000 movie reviews from IMDB, labeled with sentiment (positive or negative). For convenience, the words are indexed by their frequency in the dataset, meaning the for that has index 1 is the most frequent word. We will only use the first 20 words from each review to speed up training, use a max vocab size of 10,000."
   ]
  },
  {
   "cell_type": "code",
   "execution_count": 1,
   "metadata": {},
   "outputs": [
    {
     "name": "stderr",
     "output_type": "stream",
     "text": [
      "C:\\Users\\edwin\\Anaconda3\\lib\\site-packages\\h5py\\__init__.py:36: FutureWarning: Conversion of the second argument of issubdtype from `float` to `np.floating` is deprecated. In future, it will be treated as `np.float64 == np.dtype(float).type`.\n",
      "  from ._conv import register_converters as _register_converters\n",
      "Using TensorFlow backend.\n"
     ]
    }
   ],
   "source": [
    "from keras.datasets import imdb\n",
    "from keras.preprocessing.sequence import pad_sequences\n",
    "vocab_size = 10000 #vocab size\n",
    "maxlen = 20  #number of word used from each review\n",
    "#load dataset as a list of ints\n",
    "(x_train, y_train), (x_test, y_test) = imdb.load_data(num_words=vocab_size)\n",
    "#make all sequences of the same length\n",
    "x_train = pad_sequences(x_train, maxlen=maxlen)\n",
    "x_test =  pad_sequences(x_test, maxlen=maxlen)"
   ]
  },
  {
   "cell_type": "code",
   "execution_count": 2,
   "metadata": {},
   "outputs": [
    {
     "name": "stdout",
     "output_type": "stream",
     "text": [
      "<module 'keras.datasets.imdb' from 'C:\\\\Users\\\\edwin\\\\Anaconda3\\\\lib\\\\site-packages\\\\keras\\\\datasets\\\\imdb.py'>\n"
     ]
    }
   ],
   "source": [
    "print(imdb)"
   ]
  },
  {
   "cell_type": "code",
   "execution_count": 3,
   "metadata": {},
   "outputs": [
    {
     "data": {
      "text/plain": [
       "(25000, 20)"
      ]
     },
     "execution_count": 3,
     "metadata": {},
     "output_type": "execute_result"
    }
   ],
   "source": [
    "x_train.shape #number of review, number of words in each review"
   ]
  },
  {
   "cell_type": "code",
   "execution_count": 4,
   "metadata": {},
   "outputs": [
    {
     "data": {
      "text/plain": [
       "array([[  65,   16,   38, ...,   19,  178,   32],\n",
       "       [  23,    4, 1690, ...,   16,  145,   95],\n",
       "       [1352,   13,  191, ...,    7,  129,  113],\n",
       "       ...,\n",
       "       [  11, 1818, 7561, ...,    4, 3586,    2],\n",
       "       [  92,  401,  728, ...,   12,    9,   23],\n",
       "       [ 764,   40,    4, ...,  204,  131,    9]])"
      ]
     },
     "execution_count": 4,
     "metadata": {},
     "output_type": "execute_result"
    }
   ],
   "source": [
    "x_train"
   ]
  },
  {
   "cell_type": "code",
   "execution_count": 5,
   "metadata": {},
   "outputs": [
    {
     "data": {
      "text/plain": [
       "(25000, 20)"
      ]
     },
     "execution_count": 5,
     "metadata": {},
     "output_type": "execute_result"
    }
   ],
   "source": [
    "x_test.shape"
   ]
  },
  {
   "cell_type": "code",
   "execution_count": 6,
   "metadata": {},
   "outputs": [
    {
     "data": {
      "text/plain": [
       "array([1, 0, 0, ..., 0, 1, 0], dtype=int64)"
      ]
     },
     "execution_count": 6,
     "metadata": {},
     "output_type": "execute_result"
    }
   ],
   "source": [
    "y_train"
   ]
  },
  {
   "cell_type": "markdown",
   "metadata": {},
   "source": [
    "We can think of the Embedding layer as a dicionary that maps a index assigned to a word to a word vector. This layer is very flexiable and can be used in a few ways:\n",
    "\n",
    "* The embedding layer can be used at the start of a larger deep learning model. \n",
    "* Also we could load pre-train word embeddings into the embedding layer when we create our model.\n",
    "* Use the embedding layer to train our own word2vec models.\n",
    "\n",
    "The keras embedding layer doesn't require us to onehot encode our words, instead we have to give each word a unqiue intger number as an id. For the imdb dataset we've loaded this has already been done, but if this wasn't the case we could use sklearn [LabelEncoder](http://scikit-learn.org/stable/modules/generated/sklearn.preprocessing.LabelEncoder.html)."
   ]
  },
  {
   "cell_type": "code",
   "execution_count": 7,
   "metadata": {},
   "outputs": [
    {
     "name": "stdout",
     "output_type": "stream",
     "text": [
      "_________________________________________________________________\n",
      "Layer (type)                 Output Shape              Param #   \n",
      "=================================================================\n",
      "embedding_1 (Embedding)      (None, 20, 8)             80000     \n",
      "_________________________________________________________________\n",
      "flatten_1 (Flatten)          (None, 160)               0         \n",
      "_________________________________________________________________\n",
      "dense_1 (Dense)              (None, 1)                 161       \n",
      "=================================================================\n",
      "Total params: 80,161\n",
      "Trainable params: 80,161\n",
      "Non-trainable params: 0\n",
      "_________________________________________________________________\n"
     ]
    }
   ],
   "source": [
    "from keras.models import Sequential\n",
    "from keras.layers import Flatten, Dense, Embedding\n",
    "model = Sequential()\n",
    "model.add(Embedding(10000, 8, input_length=maxlen)) #10000 for vocab size, 8 for dimensionality of embedding\n",
    "model.add(Flatten())\n",
    "model.add(Dense(1, activation='sigmoid'))\n",
    "model.compile(optimizer='rmsprop', loss='binary_crossentropy', metrics=['acc'])\n",
    "model.summary()\n"
   ]
  },
  {
   "cell_type": "code",
   "execution_count": 8,
   "metadata": {},
   "outputs": [
    {
     "data": {
      "text/plain": [
       "(25000, 20)"
      ]
     },
     "execution_count": 8,
     "metadata": {},
     "output_type": "execute_result"
    }
   ],
   "source": [
    "x_train.shape #number of examples, number or words"
   ]
  },
  {
   "cell_type": "code",
   "execution_count": 9,
   "metadata": {},
   "outputs": [
    {
     "data": {
      "text/plain": [
       "array([  23,    4, 1690,   15,   16,    4, 1355,    5,   28,    6,   52,\n",
       "        154,  462,   33,   89,   78,  285,   16,  145,   95])"
      ]
     },
     "execution_count": 9,
     "metadata": {},
     "output_type": "execute_result"
    }
   ],
   "source": [
    "x_train[1] # words are representedby numbers"
   ]
  },
  {
   "cell_type": "code",
   "execution_count": 10,
   "metadata": {},
   "outputs": [
    {
     "data": {
      "text/plain": [
       "(25000,)"
      ]
     },
     "execution_count": 10,
     "metadata": {},
     "output_type": "execute_result"
    }
   ],
   "source": [
    "y_train.shape "
   ]
  },
  {
   "cell_type": "code",
   "execution_count": 11,
   "metadata": {},
   "outputs": [
    {
     "name": "stdout",
     "output_type": "stream",
     "text": [
      "Train on 20000 samples, validate on 5000 samples\n",
      "Epoch 1/20\n",
      "20000/20000 [==============================] - 11s 571us/step - loss: 0.6759 - acc: 0.6050 - val_loss: 0.6398 - val_acc: 0.6814\n",
      "Epoch 2/20\n",
      "20000/20000 [==============================] - 7s 371us/step - loss: 0.5657 - acc: 0.7427 - val_loss: 0.5467 - val_acc: 0.7206\n",
      "Epoch 3/20\n",
      "20000/20000 [==============================] - 7s 333us/step - loss: 0.4752 - acc: 0.7808 - val_loss: 0.5113 - val_acc: 0.7384\n",
      "Epoch 4/20\n",
      "20000/20000 [==============================] - 6s 316us/step - loss: 0.4263 - acc: 0.8077 - val_loss: 0.5008 - val_acc: 0.7452\n",
      "Epoch 5/20\n",
      "20000/20000 [==============================] - 7s 336us/step - loss: 0.3930 - acc: 0.8258 - val_loss: 0.4981 - val_acc: 0.7538\n",
      "Epoch 6/20\n",
      "20000/20000 [==============================] - 7s 330us/step - loss: 0.3668 - acc: 0.8395 - val_loss: 0.5014 - val_acc: 0.7530\n",
      "Epoch 7/20\n",
      "20000/20000 [==============================] - 7s 346us/step - loss: 0.3435 - acc: 0.8533 - val_loss: 0.5052 - val_acc: 0.7520\n",
      "Epoch 8/20\n",
      "20000/20000 [==============================] - 7s 349us/step - loss: 0.3223 - acc: 0.8657 - val_loss: 0.5132 - val_acc: 0.7486\n",
      "Epoch 9/20\n",
      "20000/20000 [==============================] - 7s 336us/step - loss: 0.3022 - acc: 0.8766 - val_loss: 0.5213 - val_acc: 0.7490\n",
      "Epoch 10/20\n",
      "20000/20000 [==============================] - 6s 303us/step - loss: 0.2839 - acc: 0.8860 - val_loss: 0.5303 - val_acc: 0.7466\n",
      "Epoch 11/20\n",
      "20000/20000 [==============================] - 6s 303us/step - loss: 0.2664 - acc: 0.8942 - val_loss: 0.5406 - val_acc: 0.7440ss: 0.2668 - a\n",
      "Epoch 12/20\n",
      "20000/20000 [==============================] - 7s 349us/step - loss: 0.2502 - acc: 0.9026 - val_loss: 0.5520 - val_acc: 0.7440\n",
      "Epoch 13/20\n",
      "20000/20000 [==============================] - 6s 309us/step - loss: 0.2346 - acc: 0.9089 - val_loss: 0.5654 - val_acc: 0.7420\n",
      "Epoch 14/20\n",
      "20000/20000 [==============================] - 8s 379us/step - loss: 0.2207 - acc: 0.9155 - val_loss: 0.5782 - val_acc: 0.7390\n",
      "Epoch 15/20\n",
      "20000/20000 [==============================] - 7s 335us/step - loss: 0.2073 - acc: 0.9202 - val_loss: 0.5928 - val_acc: 0.7380\n",
      "Epoch 16/20\n",
      "20000/20000 [==============================] - 7s 359us/step - loss: 0.1950 - acc: 0.9261 - val_loss: 0.6052 - val_acc: 0.7360\n",
      "Epoch 17/20\n",
      "20000/20000 [==============================] - 6s 323us/step - loss: 0.1838 - acc: 0.9313 - val_loss: 0.6209 - val_acc: 0.7332\n",
      "Epoch 18/20\n",
      "20000/20000 [==============================] - 7s 329us/step - loss: 0.1733 - acc: 0.9371 - val_loss: 0.6369 - val_acc: 0.7314\n",
      "Epoch 19/20\n",
      "20000/20000 [==============================] - 7s 346us/step - loss: 0.1634 - acc: 0.9408 - val_loss: 0.6521 - val_acc: 0.7278\n",
      "Epoch 20/20\n",
      "20000/20000 [==============================] - 5s 274us/step - loss: 0.1545 - acc: 0.9455 - val_loss: 0.6680 - val_acc: 0.7260\n"
     ]
    }
   ],
   "source": [
    "history = model.fit(x_train, y_train,\n",
    "epochs=20,\n",
    "batch_size=32,\n",
    "validation_split=0.2)"
   ]
  },
  {
   "cell_type": "code",
   "execution_count": 12,
   "metadata": {},
   "outputs": [
    {
     "data": {
      "text/plain": [
       "[<keras.layers.embeddings.Embedding at 0x1ac8385beb8>,\n",
       " <keras.layers.core.Flatten at 0x1ac8385bef0>,\n",
       " <keras.layers.core.Dense at 0x1ac8385c2b0>]"
      ]
     },
     "execution_count": 12,
     "metadata": {},
     "output_type": "execute_result"
    }
   ],
   "source": [
    "model.layers #get all layers from model"
   ]
  },
  {
   "cell_type": "code",
   "execution_count": 13,
   "metadata": {},
   "outputs": [],
   "source": [
    "word_embeddings = model.layers[0].get_weights()[0] #get weights from embedding layer"
   ]
  },
  {
   "cell_type": "markdown",
   "metadata": {},
   "source": [
    "Each row in the embedding layer corresponds to a word vector. "
   ]
  },
  {
   "cell_type": "code",
   "execution_count": 14,
   "metadata": {},
   "outputs": [
    {
     "data": {
      "text/plain": [
       "(10000, 8)"
      ]
     },
     "execution_count": 14,
     "metadata": {},
     "output_type": "execute_result"
    }
   ],
   "source": [
    "model.layers[0].get_weights()[0].shape #10,000 words, 8D word embeddings"
   ]
  },
  {
   "cell_type": "code",
   "execution_count": 15,
   "metadata": {},
   "outputs": [
    {
     "data": {
      "text/plain": [
       "(10000, 8)"
      ]
     },
     "execution_count": 15,
     "metadata": {},
     "output_type": "execute_result"
    }
   ],
   "source": [
    "word_embeddings.shape #10000 words, embedings of shape 8"
   ]
  },
  {
   "cell_type": "code",
   "execution_count": 16,
   "metadata": {},
   "outputs": [
    {
     "data": {
      "text/plain": [
       "array([[-0.2531628 , -0.01888705, -0.17107728, ...,  0.06188993,\n",
       "         0.11005876, -0.11686996],\n",
       "       [-0.0262525 ,  0.05628638, -0.12938961, ..., -0.22720085,\n",
       "         0.03819834,  0.11793949],\n",
       "       [-0.01901844, -0.06382567, -0.00030982, ...,  0.02522065,\n",
       "        -0.02231135, -0.025289  ],\n",
       "       ...,\n",
       "       [-0.03273454,  0.02918702, -0.04478579, ...,  0.16867042,\n",
       "        -0.01261579, -0.16748938],\n",
       "       [-0.17153065, -0.05938431, -0.01616969, ...,  0.03787478,\n",
       "        -0.00103477,  0.10654188],\n",
       "       [ 0.0136178 ,  0.06575242,  0.02363523, ...,  0.0191305 ,\n",
       "         0.07557042, -0.05249241]], dtype=float32)"
      ]
     },
     "execution_count": 16,
     "metadata": {},
     "output_type": "execute_result"
    }
   ],
   "source": [
    "word_embeddings"
   ]
  },
  {
   "cell_type": "markdown",
   "metadata": {},
   "source": [
    "# Exercise\n",
    "Reuters newswire topics classification, the dataset contains 11,228 newswires from Reuters, labeled over 46 topics.   As with the IMDB dataset, each wire is encoded as a sequence of numbers.   \n",
    "\n",
    "You task is to create a neural network that can classify which topic the piece of text came from. Use an embedding layer to input the data. "
   ]
  },
  {
   "cell_type": "code",
   "execution_count": 17,
   "metadata": {},
   "outputs": [],
   "source": [
    "from keras.datasets import reuters\n",
    "\n",
    "(x_train, y_train), (x_test, y_test) = reuters.load_data(path=\"reuters.npz\",\n",
    "                                                         num_words=None,\n",
    "                                                         skip_top=0,\n",
    "                                                         maxlen=None,\n",
    "                                                         test_split=0.2,\n",
    "                                                         seed=113,\n",
    "                                                         start_char=1,\n",
    "                                                         oov_char=2,\n",
    "                                                         index_from=3)"
   ]
  },
  {
   "cell_type": "code",
   "execution_count": 18,
   "metadata": {},
   "outputs": [
    {
     "data": {
      "text/plain": [
       "(8982,)"
      ]
     },
     "execution_count": 18,
     "metadata": {},
     "output_type": "execute_result"
    }
   ],
   "source": [
    "x_train.shape"
   ]
  },
  {
   "cell_type": "code",
   "execution_count": 19,
   "metadata": {},
   "outputs": [],
   "source": [
    "import seaborn as sns"
   ]
  },
  {
   "cell_type": "code",
   "execution_count": 20,
   "metadata": {},
   "outputs": [
    {
     "data": {
      "text/plain": [
       "<matplotlib.axes._subplots.AxesSubplot at 0x1ac9146e3c8>"
      ]
     },
     "execution_count": 20,
     "metadata": {},
     "output_type": "execute_result"
    },
    {
     "data": {
      "image/png": "[encoded data removed]",
      "text/plain": [
       "<matplotlib.figure.Figure at 0x1ac91182d30>"
      ]
     },
     "metadata": {},
     "output_type": "display_data"
    }
   ],
   "source": [
    "sns.distplot([len(news) for news in x_train ])"
   ]
  },
  {
   "cell_type": "code",
   "execution_count": 21,
   "metadata": {},
   "outputs": [],
   "source": [
    "\n",
    "maxlen = 250  #number of word used from each review\n",
    "\n",
    "x_train = pad_sequences(x_train, maxlen=maxlen)\n",
    "x_test =  pad_sequences(x_test, maxlen=maxlen)"
   ]
  },
  {
   "cell_type": "code",
   "execution_count": 22,
   "metadata": {},
   "outputs": [
    {
     "data": {
      "text/plain": [
       "(8982, 250)"
      ]
     },
     "execution_count": 22,
     "metadata": {},
     "output_type": "execute_result"
    }
   ],
   "source": [
    "x_train.shape"
   ]
  },
  {
   "cell_type": "code",
   "execution_count": 23,
   "metadata": {},
   "outputs": [
    {
     "data": {
      "text/plain": [
       "array([[0., 0., 0., ..., 0., 0., 0.],\n",
       "       [0., 0., 0., ..., 0., 0., 0.],\n",
       "       [0., 0., 0., ..., 0., 0., 0.],\n",
       "       ...,\n",
       "       [0., 0., 0., ..., 0., 0., 0.],\n",
       "       [0., 0., 0., ..., 0., 0., 0.],\n",
       "       [0., 0., 0., ..., 0., 0., 0.]])"
      ]
     },
     "execution_count": 23,
     "metadata": {},
     "output_type": "execute_result"
    }
   ],
   "source": [
    "import keras\n",
    "y = keras.utils.to_categorical(y_train)\n",
    "y"
   ]
  },
  {
   "cell_type": "code",
   "execution_count": 24,
   "metadata": {},
   "outputs": [
    {
     "name": "stdout",
     "output_type": "stream",
     "text": [
      "_________________________________________________________________\n",
      "Layer (type)                 Output Shape              Param #   \n",
      "=================================================================\n",
      "embedding_2 (Embedding)      (None, 250, 8)            247768    \n",
      "_________________________________________________________________\n",
      "flatten_2 (Flatten)          (None, 2000)              0         \n",
      "_________________________________________________________________\n",
      "dense_2 (Dense)              (None, 46)                92046     \n",
      "=================================================================\n",
      "Total params: 339,814\n",
      "Trainable params: 339,814\n",
      "Non-trainable params: 0\n",
      "_________________________________________________________________\n"
     ]
    }
   ],
   "source": [
    "model = Sequential()\n",
    "model.add(Embedding(30971, 8, input_length=maxlen)) #10000 for vocab size, 8 for dimensionality of embedding\n",
    "model.add(Flatten())\n",
    "model.add(Dense(46, activation='sigmoid'))\n",
    "model.compile(optimizer='rmsprop', loss='categorical_crossentropy', metrics=['acc'])\n",
    "model.summary()\n"
   ]
  },
  {
   "cell_type": "code",
   "execution_count": 25,
   "metadata": {},
   "outputs": [
    {
     "name": "stdout",
     "output_type": "stream",
     "text": [
      "Train on 7185 samples, validate on 1797 samples\n",
      "Epoch 1/20\n",
      "7185/7185 [==============================] - 2s 277us/step - loss: 2.3681 - acc: 0.3620 - val_loss: 1.9923 - val_acc: 0.4619\n",
      "Epoch 2/20\n",
      "7185/7185 [==============================] - 2s 230us/step - loss: 1.8153 - acc: 0.4870 - val_loss: 1.7373 - val_acc: 0.5170\n",
      "Epoch 3/20\n",
      "7185/7185 [==============================] - 2s 246us/step - loss: 1.5665 - acc: 0.5776 - val_loss: 1.6083 - val_acc: 0.5893\n",
      "Epoch 4/20\n",
      "7185/7185 [==============================] - 2s 236us/step - loss: 1.3557 - acc: 0.6590 - val_loss: 1.5146 - val_acc: 0.6272\n",
      "Epoch 5/20\n",
      "7185/7185 [==============================] - 2s 231us/step - loss: 1.1468 - acc: 0.7184 - val_loss: 1.4683 - val_acc: 0.6516\n",
      "Epoch 6/20\n",
      "7185/7185 [==============================] - 2s 227us/step - loss: 0.9456 - acc: 0.7770 - val_loss: 1.4039 - val_acc: 0.6683\n",
      "Epoch 7/20\n",
      "7185/7185 [==============================] - 2s 230us/step - loss: 0.7618 - acc: 0.8356 - val_loss: 1.3828 - val_acc: 0.6795\n",
      "Epoch 8/20\n",
      "7185/7185 [==============================] - 2s 226us/step - loss: 0.6093 - acc: 0.8750 - val_loss: 1.3777 - val_acc: 0.6756\n",
      "Epoch 9/20\n",
      "7185/7185 [==============================] - 2s 247us/step - loss: 0.4852 - acc: 0.9009 - val_loss: 1.4093 - val_acc: 0.6728\n",
      "Epoch 10/20\n",
      "7185/7185 [==============================] - 2s 227us/step - loss: 0.3962 - acc: 0.9183 - val_loss: 1.4359 - val_acc: 0.6778\n",
      "Epoch 11/20\n",
      "7185/7185 [==============================] - 2s 212us/step - loss: 0.3280 - acc: 0.9328 - val_loss: 1.4675 - val_acc: 0.6722\n",
      "Epoch 12/20\n",
      "7185/7185 [==============================] - 2s 236us/step - loss: 0.2780 - acc: 0.9408 - val_loss: 1.5224 - val_acc: 0.6772\n",
      "Epoch 13/20\n",
      "7185/7185 [==============================] - 2s 251us/step - loss: 0.2399 - acc: 0.9450 - val_loss: 1.5578 - val_acc: 0.6733\n",
      "Epoch 14/20\n",
      "7185/7185 [==============================] - 2s 222us/step - loss: 0.2108 - acc: 0.9513 - val_loss: 1.6004 - val_acc: 0.6700\n",
      "Epoch 15/20\n",
      "7185/7185 [==============================] - 2s 216us/step - loss: 0.1841 - acc: 0.9552 - val_loss: 1.6357 - val_acc: 0.6694\n",
      "Epoch 16/20\n",
      "7185/7185 [==============================] - 1s 207us/step - loss: 0.1673 - acc: 0.9573 - val_loss: 1.6807 - val_acc: 0.6672\n",
      "Epoch 17/20\n",
      "7185/7185 [==============================] - 2s 214us/step - loss: 0.1514 - acc: 0.9592 - val_loss: 1.7126 - val_acc: 0.6622\n",
      "Epoch 18/20\n",
      "7185/7185 [==============================] - 2s 248us/step - loss: 0.1397 - acc: 0.9613 - val_loss: 1.7802 - val_acc: 0.6683\n",
      "Epoch 19/20\n",
      "7185/7185 [==============================] - 2s 217us/step - loss: 0.1292 - acc: 0.9613 - val_loss: 1.7992 - val_acc: 0.6611\n",
      "Epoch 20/20\n",
      "7185/7185 [==============================] - 2s 218us/step - loss: 0.1205 - acc: 0.9602 - val_loss: 1.8732 - val_acc: 0.6639\n"
     ]
    }
   ],
   "source": [
    "history = model.fit(x_train, y,\n",
    "epochs=20,\n",
    "batch_size=32,\n",
    "validation_split=0.2)"
   ]
  },
  {
   "cell_type": "code",
   "execution_count": 26,
   "metadata": {},
   "outputs": [],
   "source": [
    "from keras.models import load_model\n",
    "model.save('my_model2.h5')  \n",
    "# returns a compiled model\n",
    "# identical to the previous one\n",
    "model = load_model('my_model2.h5')\n"
   ]
  }
 ],
 "metadata": {
  "kernelspec": {
   "display_name": "Python 3",
   "language": "python",
   "name": "python3"
  },
  "language_info": {
   "codemirror_mode": {
    "name": "ipython",
    "version": 3
   },
   "file_extension": ".py",
   "mimetype": "text/x-python",
   "name": "python",
   "nbconvert_exporter": "python",
   "pygments_lexer": "ipython3",
   "version": "3.6.4"
  }
 },
 "nbformat": 4,
 "nbformat_minor": 2
}
